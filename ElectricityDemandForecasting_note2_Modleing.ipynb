{
 "cells": [
  {
   "cell_type": "markdown",
   "id": "88e80b18",
   "metadata": {},
   "source": [
    "## Modeling \n",
    "\n"
   ]
  },
  {
   "cell_type": "code",
   "execution_count": 26,
   "id": "5f4b4c40",
   "metadata": {},
   "outputs": [],
   "source": [
    "import pandas as pd\n",
    "from sklearn.linear_model import LinearRegression\n",
    "from sklearn.ensemble import RandomForestRegressor\n",
    "import numpy as np\n",
    "import seaborn as sns\n",
    "import matplotlib.pyplot as plt\n",
    "from sklearn.preprocessing import StandardScaler\n",
    "from sklearn.model_selection import TimeSeriesSplit\n",
    "\n",
    "from sklearn.metrics import r2_score,mean_squared_error,mean_absolute_percentage_error\n",
    "\n",
    "# special IPython command to prepare the notebook for matplotlib and other libraries\n",
    "%matplotlib inline\n",
    "\n",
    "import warnings\n",
    "warnings.filterwarnings('ignore')"
   ]
  },
  {
   "cell_type": "code",
   "execution_count": 2,
   "id": "78d3c4b3",
   "metadata": {},
   "outputs": [],
   "source": [
    "df=pd.read_csv('cleaned_data.csv',index_col='Dates',parse_dates=['Dates','Date'])"
   ]
  },
  {
   "cell_type": "code",
   "execution_count": 3,
   "id": "6d1a28c7",
   "metadata": {},
   "outputs": [
    {
     "data": {
      "text/html": [
       "<div>\n",
       "<style scoped>\n",
       "    .dataframe tbody tr th:only-of-type {\n",
       "        vertical-align: middle;\n",
       "    }\n",
       "\n",
       "    .dataframe tbody tr th {\n",
       "        vertical-align: top;\n",
       "    }\n",
       "\n",
       "    .dataframe thead th {\n",
       "        text-align: right;\n",
       "    }\n",
       "</style>\n",
       "<table border=\"1\" class=\"dataframe\">\n",
       "  <thead>\n",
       "    <tr style=\"text-align: right;\">\n",
       "      <th></th>\n",
       "      <th>Unnamed: 0</th>\n",
       "      <th>SDGE</th>\n",
       "      <th>Date</th>\n",
       "      <th>year</th>\n",
       "      <th>month</th>\n",
       "      <th>day</th>\n",
       "      <th>hour</th>\n",
       "      <th>weekday</th>\n",
       "      <th>season</th>\n",
       "      <th>holiday</th>\n",
       "      <th>non_working</th>\n",
       "      <th>STATION</th>\n",
       "      <th>DailyCoolingDegreeDays</th>\n",
       "      <th>DailyHeatingDegreeDays</th>\n",
       "      <th>HourlyDryBulbTemperature</th>\n",
       "      <th>AC_kW</th>\n",
       "      <th>cum_AC_kW</th>\n",
       "    </tr>\n",
       "    <tr>\n",
       "      <th>Dates</th>\n",
       "      <th></th>\n",
       "      <th></th>\n",
       "      <th></th>\n",
       "      <th></th>\n",
       "      <th></th>\n",
       "      <th></th>\n",
       "      <th></th>\n",
       "      <th></th>\n",
       "      <th></th>\n",
       "      <th></th>\n",
       "      <th></th>\n",
       "      <th></th>\n",
       "      <th></th>\n",
       "      <th></th>\n",
       "      <th></th>\n",
       "      <th></th>\n",
       "      <th></th>\n",
       "    </tr>\n",
       "  </thead>\n",
       "  <tbody>\n",
       "    <tr>\n",
       "      <th>2014-01-01 00:00:00</th>\n",
       "      <td>0</td>\n",
       "      <td>2096.0</td>\n",
       "      <td>2014-01-01</td>\n",
       "      <td>2014</td>\n",
       "      <td>1</td>\n",
       "      <td>1</td>\n",
       "      <td>0</td>\n",
       "      <td>Wednesday</td>\n",
       "      <td>winter</td>\n",
       "      <td>1</td>\n",
       "      <td>non-working</td>\n",
       "      <td>72290023188</td>\n",
       "      <td>0.0</td>\n",
       "      <td>7.0</td>\n",
       "      <td>51.0</td>\n",
       "      <td>0.0</td>\n",
       "      <td>220992.227</td>\n",
       "    </tr>\n",
       "    <tr>\n",
       "      <th>2014-01-01 01:00:00</th>\n",
       "      <td>1</td>\n",
       "      <td>1986.0</td>\n",
       "      <td>2014-01-01</td>\n",
       "      <td>2014</td>\n",
       "      <td>1</td>\n",
       "      <td>1</td>\n",
       "      <td>1</td>\n",
       "      <td>Wednesday</td>\n",
       "      <td>winter</td>\n",
       "      <td>1</td>\n",
       "      <td>non-working</td>\n",
       "      <td>72290023188</td>\n",
       "      <td>0.0</td>\n",
       "      <td>7.0</td>\n",
       "      <td>51.5</td>\n",
       "      <td>0.0</td>\n",
       "      <td>220992.227</td>\n",
       "    </tr>\n",
       "    <tr>\n",
       "      <th>2014-01-01 02:00:00</th>\n",
       "      <td>2</td>\n",
       "      <td>1936.0</td>\n",
       "      <td>2014-01-01</td>\n",
       "      <td>2014</td>\n",
       "      <td>1</td>\n",
       "      <td>1</td>\n",
       "      <td>2</td>\n",
       "      <td>Wednesday</td>\n",
       "      <td>winter</td>\n",
       "      <td>1</td>\n",
       "      <td>non-working</td>\n",
       "      <td>72290023188</td>\n",
       "      <td>0.0</td>\n",
       "      <td>7.0</td>\n",
       "      <td>51.8</td>\n",
       "      <td>0.0</td>\n",
       "      <td>220992.227</td>\n",
       "    </tr>\n",
       "  </tbody>\n",
       "</table>\n",
       "</div>"
      ],
      "text/plain": [
       "                     Unnamed: 0    SDGE       Date  year  month  day  hour  \\\n",
       "Dates                                                                        \n",
       "2014-01-01 00:00:00           0  2096.0 2014-01-01  2014      1    1     0   \n",
       "2014-01-01 01:00:00           1  1986.0 2014-01-01  2014      1    1     1   \n",
       "2014-01-01 02:00:00           2  1936.0 2014-01-01  2014      1    1     2   \n",
       "\n",
       "                       weekday  season  holiday  non_working      STATION  \\\n",
       "Dates                                                                       \n",
       "2014-01-01 00:00:00  Wednesday  winter        1  non-working  72290023188   \n",
       "2014-01-01 01:00:00  Wednesday  winter        1  non-working  72290023188   \n",
       "2014-01-01 02:00:00  Wednesday  winter        1  non-working  72290023188   \n",
       "\n",
       "                     DailyCoolingDegreeDays  DailyHeatingDegreeDays  \\\n",
       "Dates                                                                 \n",
       "2014-01-01 00:00:00                     0.0                     7.0   \n",
       "2014-01-01 01:00:00                     0.0                     7.0   \n",
       "2014-01-01 02:00:00                     0.0                     7.0   \n",
       "\n",
       "                     HourlyDryBulbTemperature  AC_kW   cum_AC_kW  \n",
       "Dates                                                             \n",
       "2014-01-01 00:00:00                      51.0    0.0  220992.227  \n",
       "2014-01-01 01:00:00                      51.5    0.0  220992.227  \n",
       "2014-01-01 02:00:00                      51.8    0.0  220992.227  "
      ]
     },
     "execution_count": 3,
     "metadata": {},
     "output_type": "execute_result"
    }
   ],
   "source": [
    "df.head(3)"
   ]
  },
  {
   "cell_type": "code",
   "execution_count": 4,
   "id": "b0966519",
   "metadata": {},
   "outputs": [],
   "source": [
    "# Function for train and test split\n",
    "def train_test(data, test_size = 0.15, scale = False, cols_to_transform=None, include_test_scale=False):\n",
    "    df = data.copy()\n",
    "    test_index = int(len(df)*(1-test_size)) #index after which the test set starts\n",
    "    \n",
    "    \n",
    "    if scale and include_test_scale:# StandardScaler fit on the entire dataset\n",
    "        scaler = StandardScaler()\n",
    "        df[cols_to_transform] = scaler.fit_transform(df[cols_to_transform])\n",
    "        \n",
    "    X_train = df.drop('SDGE', axis = 1).iloc[:test_index]\n",
    "    y_train = df.SDGE.iloc[:test_index]\n",
    "    X_test = df.drop('SDGE', axis = 1).iloc[test_index:]\n",
    "    y_test = df.SDGE.iloc[test_index:]\n",
    "    \n",
    "    \n",
    "    if scale and not include_test_scale:# StandardScaler fit only on the training set\n",
    "        scaler = StandardScaler()\n",
    "        X_train[cols_to_transform] = scaler.fit_transform(X_train[cols_to_transform])\n",
    "        X_test[cols_to_transform] = scaler.transform(X_test[cols_to_transform])\n",
    "    \n",
    "    return X_train, X_test, y_train, y_test\n"
   ]
  },
  {
   "cell_type": "code",
   "execution_count": 5,
   "id": "9917fa33",
   "metadata": {},
   "outputs": [],
   "source": [
    "# categorical colums creation\n",
    "cat_cols = ['year', 'month', 'day', 'hour', 'weekday', 'season', 'holiday', 'non_working']\n",
    "for col in cat_cols:\n",
    "    df[col] = df[col].astype('category')"
   ]
  },
  {
   "cell_type": "code",
   "execution_count": 6,
   "id": "840aa950",
   "metadata": {},
   "outputs": [],
   "source": [
    "#creating dummy columns for categorical variables\n",
    "df_lr = pd.get_dummies(df,drop_first=True)"
   ]
  },
  {
   "cell_type": "code",
   "execution_count": 7,
   "id": "7720af2c",
   "metadata": {},
   "outputs": [
    {
     "data": {
      "text/plain": [
       "Index(['Unnamed: 0', 'SDGE', 'Date', 'STATION', 'DailyCoolingDegreeDays',\n",
       "       'DailyHeatingDegreeDays', 'HourlyDryBulbTemperature', 'AC_kW',\n",
       "       'cum_AC_kW', 'year_2015', 'year_2016', 'year_2017', 'year_2018',\n",
       "       'month_2', 'month_3', 'month_4', 'month_5', 'month_6', 'month_7',\n",
       "       'month_8', 'month_9', 'month_10', 'month_11', 'month_12', 'day_2',\n",
       "       'day_3', 'day_4', 'day_5', 'day_6', 'day_7', 'day_8', 'day_9', 'day_10',\n",
       "       'day_11', 'day_12', 'day_13', 'day_14', 'day_15', 'day_16', 'day_17',\n",
       "       'day_18', 'day_19', 'day_20', 'day_21', 'day_22', 'day_23', 'day_24',\n",
       "       'day_25', 'day_26', 'day_27', 'day_28', 'day_29', 'day_30', 'day_31',\n",
       "       'hour_1', 'hour_2', 'hour_3', 'hour_4', 'hour_5', 'hour_6', 'hour_7',\n",
       "       'hour_8', 'hour_9', 'hour_10', 'hour_11', 'hour_12', 'hour_13',\n",
       "       'hour_14', 'hour_15', 'hour_16', 'hour_17', 'hour_18', 'hour_19',\n",
       "       'hour_20', 'hour_21', 'hour_22', 'hour_23', 'weekday_Monday',\n",
       "       'weekday_Saturday', 'weekday_Sunday', 'weekday_Thursday',\n",
       "       'weekday_Tuesday', 'weekday_Wednesday', 'season_winter', 'holiday_1',\n",
       "       'non_working_working'],\n",
       "      dtype='object')"
      ]
     },
     "execution_count": 7,
     "metadata": {},
     "output_type": "execute_result"
    }
   ],
   "source": [
    "df_lr.columns"
   ]
  },
  {
   "cell_type": "code",
   "execution_count": 8,
   "id": "76c6e69f",
   "metadata": {},
   "outputs": [],
   "source": [
    "df_lr.drop(['Date','STATION', 'AC_kW', 'DailyCoolingDegreeDays','DailyHeatingDegreeDays',           \n",
    "              'weekday_Monday', 'weekday_Saturday', 'weekday_Sunday', 'weekday_Thursday',\n",
    "              'weekday_Tuesday', 'weekday_Wednesday', 'holiday_1', 'day_2', 'day_3', 'day_4', 'day_5', 'day_6',\n",
    "               'day_7', 'day_8', 'day_9', 'day_10', 'day_11', 'day_12', 'day_13',\n",
    "               'day_14', 'day_15', 'day_16', 'day_17', 'day_18', 'day_19', 'day_20',\n",
    "               'day_21', 'day_22', 'day_23', 'day_24', 'day_25', 'day_26', 'day_27',\n",
    "               'day_28', 'day_29', 'day_30', 'day_31'], axis = 1, inplace = True)"
   ]
  },
  {
   "cell_type": "code",
   "execution_count": 9,
   "id": "31b5e029",
   "metadata": {},
   "outputs": [],
   "source": [
    "cols_to_transform = ['HourlyDryBulbTemperature', 'cum_AC_kW'] # other columns are binary values\n",
    "X_train, X_test, y_train, y_test = train_test(df_lr, test_size = 0.15, scale = True, cols_to_transform=cols_to_transform)"
   ]
  },
  {
   "cell_type": "markdown",
   "id": "a1d5606c",
   "metadata": {},
   "source": [
    "### Base line Model: Linear Regression"
   ]
  },
  {
   "cell_type": "code",
   "execution_count": 10,
   "id": "ce425d33",
   "metadata": {},
   "outputs": [
    {
     "data": {
      "text/plain": [
       "Text(0.5, 0, 'Features')"
      ]
     },
     "execution_count": 10,
     "metadata": {},
     "output_type": "execute_result"
    },
    {
     "data": {
      "image/png": "[encoded data removed]",
      "text/plain": [
       "<Figure size 1152x504 with 1 Axes>"
      ]
     },
     "metadata": {
      "needs_background": "light"
     },
     "output_type": "display_data"
    }
   ],
   "source": [
    "lrm = LinearRegression()\n",
    "lrm.fit(X_train,y_train)\n",
    "\n",
    "plt.figure(figsize = (16, 7))\n",
    "plt.plot(range(len(X_train.columns)), lrm.coef_)\n",
    "plt.xticks(range(len(X_train.columns)), X_train.columns.values, rotation = 90)\n",
    "plt.margins(0.02)\n",
    "plt.axhline(0, linewidth = 0.5, color = 'r')\n",
    "plt.title('Simple linear regression coefficients')\n",
    "plt.ylabel('lm_coeff')\n",
    "plt.xlabel('Features')"
   ]
  },
  {
   "cell_type": "markdown",
   "id": "407cf156",
   "metadata": {},
   "source": [
    "***most significant variable is the hour variable***"
   ]
  },
  {
   "cell_type": "code",
   "execution_count": 11,
   "id": "cd144f70",
   "metadata": {},
   "outputs": [],
   "source": [
    "def performance(y_pred,y_true):\n",
    "    r2 = r2_score(y_pred,y_true)\n",
    "    mse = mean_squared_error(y_pred,y_true)\n",
    "    rmse = np.sqrt(mse)\n",
    "    mape = mean_absolute_percentage_error(y_pred,y_true)\n",
    "    print(f'r2 = {r2},\\n RMSE = {rmse},\\n MAPE = {mape}')\n",
    "    return 0"
   ]
  },
  {
   "cell_type": "code",
   "execution_count": 12,
   "id": "2dcb8f6b",
   "metadata": {},
   "outputs": [
    {
     "name": "stdout",
     "output_type": "stream",
     "text": [
      "r2 = 0.6299304262964931,\n",
      " RMSE = 254.97731828570866,\n",
      " MAPE = 0.08259918698853044\n"
     ]
    },
    {
     "data": {
      "text/plain": [
       "0"
      ]
     },
     "execution_count": 12,
     "metadata": {},
     "output_type": "execute_result"
    }
   ],
   "source": [
    "y_pred = lrm.predict(X_test)\n",
    "performance(y_pred,y_test)"
   ]
  },
  {
   "cell_type": "markdown",
   "id": "8e03a604",
   "metadata": {},
   "source": [
    "### XGBoost Model"
   ]
  },
  {
   "cell_type": "code",
   "execution_count": 13,
   "id": "18a58060",
   "metadata": {},
   "outputs": [],
   "source": [
    "import xgboost as xgb"
   ]
  },
  {
   "cell_type": "code",
   "execution_count": 14,
   "id": "ee3d160f",
   "metadata": {},
   "outputs": [],
   "source": [
    "xgbtuned = xgb.XGBRegressor()\n",
    "\n",
    "#hyperparameter tuning\n",
    "param_grid = {\n",
    "        'max_depth': [3, 4, 5, 6, 7, 8, 9, 10],\n",
    "        'learning_rate': [0.001, 0.01, 0.1, 0.2, 0.3],\n",
    "        'subsample': [0.5, 0.6, 0.7, 0.8, 0.9, 1.0],\n",
    "        'colsample_bytree': [0.4, 0.5, 0.6, 0.7, 0.8, 0.9, 1.0],\n",
    "        'colsample_bylevel': [0.4, 0.5, 0.6, 0.7, 0.8, 0.9, 1.0],\n",
    "        'min_child_weight': [0.5, 1.0, 3.0, 5.0, 7.0, 10.0],\n",
    "        'gamma': [0, 0.25, 0.5, 1.0],\n",
    "        'n_estimators': [10, 31, 52, 73, 94, 115, 136, 157, 178, 200]}\n"
   ]
  },
  {
   "cell_type": "code",
   "execution_count": 15,
   "id": "047faa37",
   "metadata": {},
   "outputs": [],
   "source": [
    "from sklearn.model_selection import RandomizedSearchCV"
   ]
  },
  {
   "cell_type": "code",
   "execution_count": 16,
   "id": "a735d335",
   "metadata": {},
   "outputs": [],
   "source": [
    "tscv = TimeSeriesSplit(n_splits=3) # time series cross validation split\n",
    "xgbtunedreg = RandomizedSearchCV(xgbtuned, param_distributions=param_grid , \n",
    "                                   scoring='neg_mean_squared_error', n_iter=20, n_jobs=-1, \n",
    "                                   cv=tscv, verbose=2, random_state=42)"
   ]
  },
  {
   "cell_type": "code",
   "execution_count": 18,
   "id": "0301f95e",
   "metadata": {},
   "outputs": [
    {
     "name": "stdout",
     "output_type": "stream",
     "text": [
      "Fitting 3 folds for each of 20 candidates, totalling 60 fits\n",
      "Best score: -37275.8293409106\n",
      "Best params: \n",
      "colsample_bylevel: 0.9\n",
      "colsample_bytree: 0.8\n",
      "gamma: 0.25\n",
      "learning_rate: 0.3\n",
      "max_depth: 3\n",
      "min_child_weight: 0.5\n",
      "n_estimators: 115\n",
      "subsample: 1.0\n"
     ]
    }
   ],
   "source": [
    "xgbtunedreg.fit(X_train, y_train)\n",
    "best_score = xgbtunedreg.best_score_\n",
    "best_params = xgbtunedreg.best_params_\n",
    "print(\"Best score: {}\".format(best_score))\n",
    "print(\"Best params: \")\n",
    "for param_name in sorted(best_params.keys()):\n",
    "    print('%s: %r' % (param_name, best_params[param_name]))"
   ]
  },
  {
   "cell_type": "code",
   "execution_count": 19,
   "id": "bd3a1cc4",
   "metadata": {},
   "outputs": [
    {
     "name": "stdout",
     "output_type": "stream",
     "text": [
      "r2 = 0.8070674335480545,\n",
      " RMSE = 199.1874203067829,\n",
      " MAPE = 0.06456523004590445\n"
     ]
    },
    {
     "data": {
      "text/plain": [
       "0"
      ]
     },
     "execution_count": 19,
     "metadata": {},
     "output_type": "execute_result"
    }
   ],
   "source": [
    "xgbmodel = xgb.XGBRegressor(colsample_bylevel= 0.9,colsample_bytree= 0.8,gamma= 0.25,learning_rate= 0.3,max_depth= 3,min_child_weight= 0.5,n_estimators= 115,subsample=1.0)\n",
    "xgbmodel.fit(X_train,y_train)\n",
    "y_predict_xgb = xgbmodel.predict(X_test)\n",
    "performance(y_predict_xgb,y_test)"
   ]
  },
  {
   "cell_type": "markdown",
   "id": "786ffec3",
   "metadata": {},
   "source": [
    "### Modeling Seasonalities and Lagged values\n",
    "\n",
    "\n",
    "#### Multiple Seasonalities with Fourier Series\n",
    "$ g(t) = \\Sigma a_m cos(2 \\pi m t / T) + \\Sigma b_n sin (2\\pi nt / T)$\n",
    "\n",
    "$m, n $ are descrete values, chosen as m=n=5 (by trial and error and referring literature works),\n",
    "Daily : $T = 24$\n",
    "Yealry: $T = 365.35 $\n",
    "Weekly :$T= 7 $\n"
   ]
  },
  {
   "cell_type": "code",
   "execution_count": 20,
   "id": "2311c02b",
   "metadata": {},
   "outputs": [],
   "source": [
    "def add_fourier_terms(df, year_k, week_k, day_k):\n",
    "    for k in range(1, year_k+1):\n",
    "        df['year_sin'+str(k)] = np.sin(2 *k* np.pi * df.index.dayofyear/365.25) \n",
    "        df['year_cos'+str(k)] = np.cos(2 *k* np.pi * df.index.dayofyear/365.25)\n",
    "    for k in range(1, week_k+1):\n",
    "        df['week_sin'+str(k)] = np.sin(2 *k* np.pi * df.index.dayofweek/7)\n",
    "        df['week_cos'+str(k)] = np.cos(2 *k* np.pi * df.index.dayofweek/7)\n",
    "    for k in range(1, day_k+1):\n",
    "        df['hour_sin'+str(k)] = np.sin(2 *k* np.pi * df.index.hour/24)\n",
    "        df['hour_cos'+str(k)] = np.cos(2 *k* np.pi * df.index.hour/24)"
   ]
  },
  {
   "cell_type": "markdown",
   "id": "1e50eb90",
   "metadata": {},
   "source": [
    "#### Adding Lagged Values\n",
    "\n",
    "The energy consumption values can also be expected to depend on it’s previous lagged values because the energy consumption of a region shouldn’t be expected to change much in the next few hours except for any unexpected or unfortunate events. So we will add the lagged values of energy consumption as the X parameters and check if we can predict better using the past values (in addition to the variables that we had already added).\n",
    "\n",
    "lag1 is the value of the energy consumption in the previous hour, lag2 is the value of energy consumption\n",
    "2 hours before the current value and so on"
   ]
  },
  {
   "cell_type": "code",
   "execution_count": 21,
   "id": "6cde0989",
   "metadata": {},
   "outputs": [],
   "source": [
    "for i in range(24):\n",
    "    df_lr['lag'+str(i+1)] = df_lr['SDGE'].shift(i+1)\n",
    "    #Since the first 24 values won't have any 24th lag, they will be NaN. So dropping the NaNs \n",
    "lag_df = df_lr.dropna()"
   ]
  },
  {
   "cell_type": "code",
   "execution_count": 22,
   "id": "bc3a5739",
   "metadata": {},
   "outputs": [
    {
     "data": {
      "text/html": [
       "<div>\n",
       "<style scoped>\n",
       "    .dataframe tbody tr th:only-of-type {\n",
       "        vertical-align: middle;\n",
       "    }\n",
       "\n",
       "    .dataframe tbody tr th {\n",
       "        vertical-align: top;\n",
       "    }\n",
       "\n",
       "    .dataframe thead th {\n",
       "        text-align: right;\n",
       "    }\n",
       "</style>\n",
       "<table border=\"1\" class=\"dataframe\">\n",
       "  <thead>\n",
       "    <tr style=\"text-align: right;\">\n",
       "      <th></th>\n",
       "      <th>Unnamed: 0</th>\n",
       "      <th>SDGE</th>\n",
       "      <th>HourlyDryBulbTemperature</th>\n",
       "      <th>cum_AC_kW</th>\n",
       "      <th>year_2015</th>\n",
       "      <th>year_2016</th>\n",
       "      <th>year_2017</th>\n",
       "      <th>year_2018</th>\n",
       "      <th>month_2</th>\n",
       "      <th>month_3</th>\n",
       "      <th>...</th>\n",
       "      <th>lag15</th>\n",
       "      <th>lag16</th>\n",
       "      <th>lag17</th>\n",
       "      <th>lag18</th>\n",
       "      <th>lag19</th>\n",
       "      <th>lag20</th>\n",
       "      <th>lag21</th>\n",
       "      <th>lag22</th>\n",
       "      <th>lag23</th>\n",
       "      <th>lag24</th>\n",
       "    </tr>\n",
       "    <tr>\n",
       "      <th>Dates</th>\n",
       "      <th></th>\n",
       "      <th></th>\n",
       "      <th></th>\n",
       "      <th></th>\n",
       "      <th></th>\n",
       "      <th></th>\n",
       "      <th></th>\n",
       "      <th></th>\n",
       "      <th></th>\n",
       "      <th></th>\n",
       "      <th></th>\n",
       "      <th></th>\n",
       "      <th></th>\n",
       "      <th></th>\n",
       "      <th></th>\n",
       "      <th></th>\n",
       "      <th></th>\n",
       "      <th></th>\n",
       "      <th></th>\n",
       "      <th></th>\n",
       "      <th></th>\n",
       "    </tr>\n",
       "  </thead>\n",
       "  <tbody>\n",
       "    <tr>\n",
       "      <th>2014-01-02 00:00:00</th>\n",
       "      <td>24</td>\n",
       "      <td>1904.0</td>\n",
       "      <td>53.0</td>\n",
       "      <td>221141.892</td>\n",
       "      <td>0</td>\n",
       "      <td>0</td>\n",
       "      <td>0</td>\n",
       "      <td>0</td>\n",
       "      <td>0</td>\n",
       "      <td>0</td>\n",
       "      <td>...</td>\n",
       "      <td>2250.0</td>\n",
       "      <td>2141.0</td>\n",
       "      <td>2055.0</td>\n",
       "      <td>2011.0</td>\n",
       "      <td>1922.0</td>\n",
       "      <td>1899.0</td>\n",
       "      <td>1896.0</td>\n",
       "      <td>1936.0</td>\n",
       "      <td>1986.0</td>\n",
       "      <td>2096.0</td>\n",
       "    </tr>\n",
       "    <tr>\n",
       "      <th>2014-01-02 01:00:00</th>\n",
       "      <td>25</td>\n",
       "      <td>1855.0</td>\n",
       "      <td>52.0</td>\n",
       "      <td>221141.892</td>\n",
       "      <td>0</td>\n",
       "      <td>0</td>\n",
       "      <td>0</td>\n",
       "      <td>0</td>\n",
       "      <td>0</td>\n",
       "      <td>0</td>\n",
       "      <td>...</td>\n",
       "      <td>2304.0</td>\n",
       "      <td>2250.0</td>\n",
       "      <td>2141.0</td>\n",
       "      <td>2055.0</td>\n",
       "      <td>2011.0</td>\n",
       "      <td>1922.0</td>\n",
       "      <td>1899.0</td>\n",
       "      <td>1896.0</td>\n",
       "      <td>1936.0</td>\n",
       "      <td>1986.0</td>\n",
       "    </tr>\n",
       "    <tr>\n",
       "      <th>2014-01-02 02:00:00</th>\n",
       "      <td>26</td>\n",
       "      <td>1815.0</td>\n",
       "      <td>54.0</td>\n",
       "      <td>221141.892</td>\n",
       "      <td>0</td>\n",
       "      <td>0</td>\n",
       "      <td>0</td>\n",
       "      <td>0</td>\n",
       "      <td>0</td>\n",
       "      <td>0</td>\n",
       "      <td>...</td>\n",
       "      <td>2301.0</td>\n",
       "      <td>2304.0</td>\n",
       "      <td>2250.0</td>\n",
       "      <td>2141.0</td>\n",
       "      <td>2055.0</td>\n",
       "      <td>2011.0</td>\n",
       "      <td>1922.0</td>\n",
       "      <td>1899.0</td>\n",
       "      <td>1896.0</td>\n",
       "      <td>1936.0</td>\n",
       "    </tr>\n",
       "  </tbody>\n",
       "</table>\n",
       "<p>3 rows × 68 columns</p>\n",
       "</div>"
      ],
      "text/plain": [
       "                     Unnamed: 0    SDGE  HourlyDryBulbTemperature   cum_AC_kW  \\\n",
       "Dates                                                                           \n",
       "2014-01-02 00:00:00          24  1904.0                      53.0  221141.892   \n",
       "2014-01-02 01:00:00          25  1855.0                      52.0  221141.892   \n",
       "2014-01-02 02:00:00          26  1815.0                      54.0  221141.892   \n",
       "\n",
       "                     year_2015  year_2016  year_2017  year_2018  month_2  \\\n",
       "Dates                                                                      \n",
       "2014-01-02 00:00:00          0          0          0          0        0   \n",
       "2014-01-02 01:00:00          0          0          0          0        0   \n",
       "2014-01-02 02:00:00          0          0          0          0        0   \n",
       "\n",
       "                     month_3  ...   lag15   lag16   lag17   lag18   lag19  \\\n",
       "Dates                         ...                                           \n",
       "2014-01-02 00:00:00        0  ...  2250.0  2141.0  2055.0  2011.0  1922.0   \n",
       "2014-01-02 01:00:00        0  ...  2304.0  2250.0  2141.0  2055.0  2011.0   \n",
       "2014-01-02 02:00:00        0  ...  2301.0  2304.0  2250.0  2141.0  2055.0   \n",
       "\n",
       "                      lag20   lag21   lag22   lag23   lag24  \n",
       "Dates                                                        \n",
       "2014-01-02 00:00:00  1899.0  1896.0  1936.0  1986.0  2096.0  \n",
       "2014-01-02 01:00:00  1922.0  1899.0  1896.0  1936.0  1986.0  \n",
       "2014-01-02 02:00:00  2011.0  1922.0  1899.0  1896.0  1936.0  \n",
       "\n",
       "[3 rows x 68 columns]"
      ]
     },
     "execution_count": 22,
     "metadata": {},
     "output_type": "execute_result"
    }
   ],
   "source": [
    "lag_df.head(3)"
   ]
  },
  {
   "cell_type": "markdown",
   "id": "a36da529",
   "metadata": {},
   "source": [
    "*Adding Fourier Terms to the data frame with lagged values*"
   ]
  },
  {
   "cell_type": "code",
   "execution_count": 27,
   "id": "618f26ad",
   "metadata": {},
   "outputs": [],
   "source": [
    "add_fourier_terms(lag_df, year_k= 5, week_k=5 , day_k=5)\n"
   ]
  },
  {
   "cell_type": "markdown",
   "id": "68f4ad3a",
   "metadata": {},
   "source": [
    "### Improved XGBoost Model, with Fourier Series and Lagged Values"
   ]
  },
  {
   "cell_type": "code",
   "execution_count": 28,
   "id": "95d96b0e",
   "metadata": {},
   "outputs": [],
   "source": [
    "X_trainF, X_testF, y_trainF, y_testF = train_test(lag_df, test_size = 0.15, scale = True, cols_to_transform=cols_to_transform)"
   ]
  },
  {
   "cell_type": "code",
   "execution_count": 29,
   "id": "5a8b0034",
   "metadata": {},
   "outputs": [
    {
     "name": "stdout",
     "output_type": "stream",
     "text": [
      "Fitting 3 folds for each of 20 candidates, totalling 60 fits\n",
      "Best score: -2336.508231199175\n",
      "Best params: \n",
      "colsample_bylevel: 0.6\n",
      "colsample_bytree: 0.9\n",
      "gamma: 0.5\n",
      "learning_rate: 0.3\n",
      "max_depth: 6\n",
      "min_child_weight: 7.0\n",
      "n_estimators: 115\n",
      "subsample: 0.9\n"
     ]
    }
   ],
   "source": [
    "xgbtunedreg.fit(X_trainF, y_trainF)\n",
    "best_score = xgbtunedreg.best_score_\n",
    "best_params = xgbtunedreg.best_params_\n",
    "print(\"Best score: {}\".format(best_score))\n",
    "print(\"Best params: \")\n",
    "for param_name in sorted(best_params.keys()):\n",
    "    print('%s: %r' % (param_name, best_params[param_name]))"
   ]
  },
  {
   "cell_type": "code",
   "execution_count": 30,
   "id": "65fe4683",
   "metadata": {},
   "outputs": [
    {
     "name": "stdout",
     "output_type": "stream",
     "text": [
      "r2 = 0.9905738258960164,\n",
      " RMSE = 47.44124169059847,\n",
      " MAPE = 0.01447405390505274\n"
     ]
    },
    {
     "data": {
      "text/plain": [
       "0"
      ]
     },
     "execution_count": 30,
     "metadata": {},
     "output_type": "execute_result"
    }
   ],
   "source": [
    "xgbfmodel = xgb.XGBRegressor(colsample_bylevel= 0.6,colsample_bytree= 0.9,gamma= 0.5,learning_rate= 0.3,max_depth= 6,min_child_weight= 7,n_estimators= 115,subsample=0.9)\n",
    "xgbfmodel.fit(X_trainF,y_trainF)\n",
    "y_predict_xgbf = xgbfmodel.predict(X_testF)\n",
    "performance(y_predict_xgbf,y_testF)"
   ]
  },
  {
   "cell_type": "code",
   "execution_count": 41,
   "id": "cc536592",
   "metadata": {},
   "outputs": [
    {
     "data": {
      "image/png": "[encoded data removed]",
      "text/plain": [
       "<Figure size 432x288 with 1 Axes>"
      ]
     },
     "metadata": {
      "needs_background": "light"
     },
     "output_type": "display_data"
    }
   ],
   "source": [
    "f1=sns.scatterplot(y_predict_xgbf,y_testF,hue=(y_predict_xgbf-y_testF))\n",
    "plt.title('Predicted Value v/s Observed Value')\n",
    "plt.xlabel('Predicted demand in MWH')\n",
    "plt.ylabel('Observed consumption in MWH')\n",
    "plt.show()"
   ]
  },
  {
   "cell_type": "code",
   "execution_count": 42,
   "id": "1359792e",
   "metadata": {},
   "outputs": [
    {
     "name": "stdout",
     "output_type": "stream",
     "text": [
      "change in r2 from LR model= 0.3606433995995233 increase\n",
      "change in RMSE from LR model= 207.5360765951102 decrease\n",
      "change in MAPE from LR model= 6.812513308294726 % decrease\n"
     ]
    }
   ],
   "source": [
    "print(f'change in r2 from LR model= {0.9905738258960164-0.6299304262964931} increase')\n",
    "print(f'change in RMSE from LR model= {254.97731828570866 -47.44124169059847 } decrease')\n",
    "print(f'change in MAPE from LR model= {8.2599186988 -001.447405390505274 } % decrease')"
   ]
  }
 ],
 "metadata": {
  "kernelspec": {
   "display_name": "Python 3 (ipykernel)",
   "language": "python",
   "name": "python3"
  },
  "language_info": {
   "codemirror_mode": {
    "name": "ipython",
    "version": 3
   },
   "file_extension": ".py",
   "mimetype": "text/x-python",
   "name": "python",
   "nbconvert_exporter": "python",
   "pygments_lexer": "ipython3",
   "version": "3.9.7"
  }
 },
 "nbformat": 4,
 "nbformat_minor": 5
}
